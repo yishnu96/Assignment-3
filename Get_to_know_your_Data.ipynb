{
  "nbformat": 4,
  "nbformat_minor": 0,
  "metadata": {
    "colab": {
      "name": "Get to know your Data.ipynb",
      "version": "0.3.2",
      "provenance": [],
      "include_colab_link": true
    },
    "kernelspec": {
      "name": "python3",
      "display_name": "Python 3"
    }
  },
  "cells": [
    {
      "cell_type": "markdown",
      "metadata": {
        "id": "view-in-github",
        "colab_type": "text"
      },
      "source": [
        "[View in Colaboratory](https://colab.research.google.com/github/yishnu96/Assignment-3/blob/yishnu96/Get_to_know_your_Data.ipynb)"
      ]
    },
    {
      "metadata": {
        "id": "J82LU53m_OU0",
        "colab_type": "text"
      },
      "cell_type": "markdown",
      "source": [
        "# Get to know your Data\n",
        "\n",
        "\n",
        "#### Import necessary modules\n"
      ]
    },
    {
      "metadata": {
        "id": "ZyO1UXL8mtSj",
        "colab_type": "code",
        "colab": {}
      },
      "cell_type": "code",
      "source": [
        "import pandas as pd\n",
        "import numpy as np"
      ],
      "execution_count": 0,
      "outputs": []
    },
    {
      "metadata": {
        "id": "yXTzTowtnwGI",
        "colab_type": "text"
      },
      "cell_type": "markdown",
      "source": [
        "#### Loading CSV Data to a DataFrame"
      ]
    },
    {
      "metadata": {
        "id": "H1Bjlb5wm9f-",
        "colab_type": "code",
        "colab": {}
      },
      "cell_type": "code",
      "source": [
        "iris_df = pd.read_csv('https://raw.githubusercontent.com/uiuc-cse/data-fa14/gh-pages/data/iris.csv')\n"
      ],
      "execution_count": 0,
      "outputs": []
    },
    {
      "metadata": {
        "id": "KE-k7b_Mn5iN",
        "colab_type": "text"
      },
      "cell_type": "markdown",
      "source": [
        "#### See the top 10 rows\n"
      ]
    },
    {
      "metadata": {
        "id": "HY2Ps7xMn4ao",
        "colab_type": "code",
        "colab": {}
      },
      "cell_type": "code",
      "source": [
        "iris_df.head()"
      ],
      "execution_count": 0,
      "outputs": []
    },
    {
      "metadata": {
        "id": "ZQXekIodqOZu",
        "colab_type": "text"
      },
      "cell_type": "markdown",
      "source": [
        "#### Find number of rows and columns\n"
      ]
    },
    {
      "metadata": {
        "id": "6Y-A-lbFqR82",
        "colab_type": "code",
        "colab": {}
      },
      "cell_type": "code",
      "source": [
        "print(iris_df.shape)\n",
        "\n",
        "#first is row and second is column\n",
        "#select row by simple indexing\n",
        "\n",
        "#print(iris_df.shape[0])\n",
        "#print(iris_df.shape[1])"
      ],
      "execution_count": 0,
      "outputs": []
    },
    {
      "metadata": {
        "id": "4ckCiGPhrC_t",
        "colab_type": "text"
      },
      "cell_type": "markdown",
      "source": [
        "#### Print all columns"
      ]
    },
    {
      "metadata": {
        "id": "S6jgMyRDrF2a",
        "colab_type": "code",
        "colab": {}
      },
      "cell_type": "code",
      "source": [
        "print(iris_df.columns)"
      ],
      "execution_count": 0,
      "outputs": []
    },
    {
      "metadata": {
        "id": "kVav5-ACtIqS",
        "colab_type": "text"
      },
      "cell_type": "markdown",
      "source": [
        "#### Check Index\n"
      ]
    },
    {
      "metadata": {
        "id": "iu3I9zIGtLDX",
        "colab_type": "code",
        "colab": {}
      },
      "cell_type": "code",
      "source": [
        "print(iris_df.index)"
      ],
      "execution_count": 0,
      "outputs": []
    },
    {
      "metadata": {
        "id": "psCc7PborOCQ",
        "colab_type": "text"
      },
      "cell_type": "markdown",
      "source": [
        "#### Right now the iris_data set has all the species grouped together let's shuffle it"
      ]
    },
    {
      "metadata": {
        "id": "Bxc8i6avrZPw",
        "colab_type": "code",
        "colab": {}
      },
      "cell_type": "code",
      "source": [
        "#generate a random permutaion on index\n",
        "\n",
        "print(iris_df.head())\n",
        "\n",
        "new_index = np.random.permutation(iris_df.index)\n",
        "iris_df = iris_df.reindex(index = new_index)\n",
        "\n",
        "print(iris_df.head())"
      ],
      "execution_count": 0,
      "outputs": []
    },
    {
      "metadata": {
        "id": "j32h8022sRT8",
        "colab_type": "text"
      },
      "cell_type": "markdown",
      "source": [
        "#### We can also apply an operation on whole column of iris_df"
      ]
    },
    {
      "metadata": {
        "id": "seYXHXsYsYJI",
        "colab_type": "code",
        "colab": {}
      },
      "cell_type": "code",
      "source": [
        "#original\n",
        "\n",
        "print(iris_df.head())\n",
        "\n",
        "iris_df['sepal_width'] *= 10\n",
        "\n",
        "#changed\n",
        "\n",
        "print(iris_df.head())\n",
        "\n",
        "#lets undo the operation\n",
        "\n",
        "iris_df['sepal_width'] /= 10\n",
        "\n",
        "print(iris_df.head())"
      ],
      "execution_count": 0,
      "outputs": []
    },
    {
      "metadata": {
        "id": "R-Ca-LBLzjiF",
        "colab_type": "text"
      },
      "cell_type": "markdown",
      "source": [
        "#### Show all the rows where sepal_width > 3.3"
      ]
    },
    {
      "metadata": {
        "id": "WJ7W-F-d0AoZ",
        "colab_type": "code",
        "colab": {}
      },
      "cell_type": "code",
      "source": [
        "iris_df[iris_df['sepal_width']>3.3]"
      ],
      "execution_count": 0,
      "outputs": []
    },
    {
      "metadata": {
        "id": "gH3DnhCq2Cbl",
        "colab_type": "text"
      },
      "cell_type": "markdown",
      "source": [
        "#### Club two filters together - Find all samples where sepal_width > 3.3 and species is versicolor"
      ]
    },
    {
      "metadata": {
        "id": "4U7ksr_R2H7M",
        "colab_type": "code",
        "colab": {}
      },
      "cell_type": "code",
      "source": [
        "iris_df[(iris_df['sepal_width']>3.3) & (iris_df['species'] == 'versicolor')] "
      ],
      "execution_count": 0,
      "outputs": []
    },
    {
      "metadata": {
        "id": "1lmnB3ot2u7I",
        "colab_type": "text"
      },
      "cell_type": "markdown",
      "source": [
        "#### Sorting a column by value"
      ]
    },
    {
      "metadata": {
        "id": "K7KIj6fv2zWP",
        "colab_type": "code",
        "colab": {}
      },
      "cell_type": "code",
      "source": [
        "iris_df.sort_values(by='sepal_width')#, ascending = False)\n",
        "#pass ascending = False for descending order"
      ],
      "execution_count": 0,
      "outputs": []
    },
    {
      "metadata": {
        "id": "9jg_Z4YCoMSV",
        "colab_type": "text"
      },
      "cell_type": "markdown",
      "source": [
        "#### List all the unique species"
      ]
    },
    {
      "metadata": {
        "id": "M6EN78ufoJY7",
        "colab_type": "code",
        "colab": {}
      },
      "cell_type": "code",
      "source": [
        "species = iris_df['species'].unique()\n",
        "\n",
        "print(species)"
      ],
      "execution_count": 0,
      "outputs": []
    },
    {
      "metadata": {
        "id": "wG1i5nxBodmB",
        "colab_type": "text"
      },
      "cell_type": "markdown",
      "source": [
        "#### Selecting a particular species using boolean mask (learnt in previous exercise)"
      ]
    },
    {
      "metadata": {
        "id": "gZvpbKBwoVUe",
        "colab_type": "code",
        "colab": {}
      },
      "cell_type": "code",
      "source": [
        "setosa = iris_df[iris_df['species'] == species[0]]\n",
        "\n",
        "setosa.head()"
      ],
      "execution_count": 0,
      "outputs": []
    },
    {
      "metadata": {
        "id": "7tumfZ3DotPG",
        "colab_type": "code",
        "colab": {}
      },
      "cell_type": "code",
      "source": [
        "# do the same for other 2 species \n",
        "versicolor = iris_df[iris_df['species'] == species[1]]\n",
        "\n",
        "versicolor.head()"
      ],
      "execution_count": 0,
      "outputs": []
    },
    {
      "metadata": {
        "id": "cUYm5UqVpDPy",
        "colab_type": "code",
        "colab": {}
      },
      "cell_type": "code",
      "source": [
        "\n",
        "\n",
        "virginica = iris_df[iris_df['species'] == species[2]]\n",
        "\n",
        "virginica.head()"
      ],
      "execution_count": 0,
      "outputs": []
    },
    {
      "metadata": {
        "id": "-y1wDc8SpdQs",
        "colab_type": "text"
      },
      "cell_type": "markdown",
      "source": [
        "#### Describe each created species to see the difference\n",
        "\n"
      ]
    },
    {
      "metadata": {
        "id": "eHrn3ZVRpOk5",
        "colab_type": "code",
        "colab": {}
      },
      "cell_type": "code",
      "source": [
        "setosa.describe()"
      ],
      "execution_count": 0,
      "outputs": []
    },
    {
      "metadata": {
        "id": "GwJFT2GlpwUv",
        "colab_type": "code",
        "colab": {}
      },
      "cell_type": "code",
      "source": [
        "versicolor.describe()"
      ],
      "execution_count": 0,
      "outputs": []
    },
    {
      "metadata": {
        "id": "Ad4qhSZLpztf",
        "colab_type": "code",
        "colab": {}
      },
      "cell_type": "code",
      "source": [
        "virginica.describe()"
      ],
      "execution_count": 0,
      "outputs": []
    },
    {
      "metadata": {
        "id": "Vdu0ulZWtr09",
        "colab_type": "text"
      },
      "cell_type": "markdown",
      "source": [
        "#### Let's plot and see the difference"
      ]
    },
    {
      "metadata": {
        "id": "PEVMzRvpttmD",
        "colab_type": "text"
      },
      "cell_type": "markdown",
      "source": [
        "##### import matplotlib.pyplot "
      ]
    },
    {
      "metadata": {
        "id": "rqDXuuAtt7C3",
        "colab_type": "code",
        "colab": {}
      },
      "cell_type": "code",
      "source": [
        "import matplotlib.pyplot as plt\n",
        "\n",
        "#hist creates a histogram there are many more plots(see the documentation) you can play with it.\n",
        "\n",
        "plt.hist(setosa['sepal_length'])\n",
        "plt.hist(versicolor['sepal_length'])\n",
        "plt.hist(virginica['sepal_length'])"
      ],
      "execution_count": 0,
      "outputs": []
    }
  ]
}